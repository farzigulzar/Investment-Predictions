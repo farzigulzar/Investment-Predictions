{
 "cells": [
  {
   "cell_type": "code",
   "execution_count": 1,
   "metadata": {},
   "outputs": [
    {
     "data": {
      "text/html": [
       "<div>\n",
       "<style scoped>\n",
       "    .dataframe tbody tr th:only-of-type {\n",
       "        vertical-align: middle;\n",
       "    }\n",
       "\n",
       "    .dataframe tbody tr th {\n",
       "        vertical-align: top;\n",
       "    }\n",
       "\n",
       "    .dataframe thead th {\n",
       "        text-align: right;\n",
       "    }\n",
       "</style>\n",
       "<table border=\"1\" class=\"dataframe\">\n",
       "  <thead>\n",
       "    <tr style=\"text-align: right;\">\n",
       "      <th></th>\n",
       "      <th>Open</th>\n",
       "      <th>High</th>\n",
       "      <th>Low</th>\n",
       "      <th>Close</th>\n",
       "      <th>Adj Close</th>\n",
       "      <th>Volume</th>\n",
       "    </tr>\n",
       "  </thead>\n",
       "  <tbody>\n",
       "    <tr>\n",
       "      <th>count</th>\n",
       "      <td>2700.000000</td>\n",
       "      <td>2700.000000</td>\n",
       "      <td>2700.000000</td>\n",
       "      <td>2700.000000</td>\n",
       "      <td>2700.000000</td>\n",
       "      <td>2.700000e+03</td>\n",
       "    </tr>\n",
       "    <tr>\n",
       "      <th>mean</th>\n",
       "      <td>11364.825725</td>\n",
       "      <td>11418.140963</td>\n",
       "      <td>11292.118393</td>\n",
       "      <td>11356.717970</td>\n",
       "      <td>11356.717970</td>\n",
       "      <td>2.935654e+05</td>\n",
       "    </tr>\n",
       "    <tr>\n",
       "      <th>std</th>\n",
       "      <td>4159.661856</td>\n",
       "      <td>4173.421486</td>\n",
       "      <td>4139.054223</td>\n",
       "      <td>4158.403861</td>\n",
       "      <td>4158.403861</td>\n",
       "      <td>1.950139e+05</td>\n",
       "    </tr>\n",
       "    <tr>\n",
       "      <th>min</th>\n",
       "      <td>5233.450195</td>\n",
       "      <td>5317.700195</td>\n",
       "      <td>5118.850098</td>\n",
       "      <td>5285.000000</td>\n",
       "      <td>5285.000000</td>\n",
       "      <td>0.000000e+00</td>\n",
       "    </tr>\n",
       "    <tr>\n",
       "      <th>25%</th>\n",
       "      <td>8172.975098</td>\n",
       "      <td>8213.499756</td>\n",
       "      <td>8123.375122</td>\n",
       "      <td>8170.649902</td>\n",
       "      <td>8170.649902</td>\n",
       "      <td>1.669750e+05</td>\n",
       "    </tr>\n",
       "    <tr>\n",
       "      <th>50%</th>\n",
       "      <td>10488.925293</td>\n",
       "      <td>10537.100097</td>\n",
       "      <td>10431.799805</td>\n",
       "      <td>10479.250000</td>\n",
       "      <td>10479.250000</td>\n",
       "      <td>2.316500e+05</td>\n",
       "    </tr>\n",
       "    <tr>\n",
       "      <th>75%</th>\n",
       "      <td>14932.824951</td>\n",
       "      <td>14990.312744</td>\n",
       "      <td>14774.962891</td>\n",
       "      <td>14907.149903</td>\n",
       "      <td>14907.149903</td>\n",
       "      <td>3.460500e+05</td>\n",
       "    </tr>\n",
       "    <tr>\n",
       "      <th>max</th>\n",
       "      <td>21737.650391</td>\n",
       "      <td>21801.449219</td>\n",
       "      <td>21678.000000</td>\n",
       "      <td>21778.699219</td>\n",
       "      <td>21778.699219</td>\n",
       "      <td>1.811000e+06</td>\n",
       "    </tr>\n",
       "  </tbody>\n",
       "</table>\n",
       "</div>"
      ],
      "text/plain": [
       "               Open          High           Low         Close     Adj Close  \\\n",
       "count   2700.000000   2700.000000   2700.000000   2700.000000   2700.000000   \n",
       "mean   11364.825725  11418.140963  11292.118393  11356.717970  11356.717970   \n",
       "std     4159.661856   4173.421486   4139.054223   4158.403861   4158.403861   \n",
       "min     5233.450195   5317.700195   5118.850098   5285.000000   5285.000000   \n",
       "25%     8172.975098   8213.499756   8123.375122   8170.649902   8170.649902   \n",
       "50%    10488.925293  10537.100097  10431.799805  10479.250000  10479.250000   \n",
       "75%    14932.824951  14990.312744  14774.962891  14907.149903  14907.149903   \n",
       "max    21737.650391  21801.449219  21678.000000  21778.699219  21778.699219   \n",
       "\n",
       "             Volume  \n",
       "count  2.700000e+03  \n",
       "mean   2.935654e+05  \n",
       "std    1.950139e+05  \n",
       "min    0.000000e+00  \n",
       "25%    1.669750e+05  \n",
       "50%    2.316500e+05  \n",
       "75%    3.460500e+05  \n",
       "max    1.811000e+06  "
      ]
     },
     "execution_count": 1,
     "metadata": {},
     "output_type": "execute_result"
    }
   ],
   "source": [
    "#Dataset downloaded from yahoo finance( 1 Jann 13 to 31 Dec 23)\n",
    "\n",
    "import pandas as pd\n",
    "import numpy as np\n",
    "\n",
    "\n",
    "raw=pd.read_csv('NIFTY-50.csv')\n",
    "raw.describe()"
   ]
  },
  {
   "cell_type": "markdown",
   "metadata": {},
   "source": [
    "Preprocess Data\n",
    "* Delete Na Values\n",
    "* Delete Date, High, Low, Adj Close"
   ]
  },
  {
   "cell_type": "code",
   "execution_count": 2,
   "metadata": {},
   "outputs": [
    {
     "data": {
      "text/html": [
       "<div>\n",
       "<style scoped>\n",
       "    .dataframe tbody tr th:only-of-type {\n",
       "        vertical-align: middle;\n",
       "    }\n",
       "\n",
       "    .dataframe tbody tr th {\n",
       "        vertical-align: top;\n",
       "    }\n",
       "\n",
       "    .dataframe thead th {\n",
       "        text-align: right;\n",
       "    }\n",
       "</style>\n",
       "<table border=\"1\" class=\"dataframe\">\n",
       "  <thead>\n",
       "    <tr style=\"text-align: right;\">\n",
       "      <th></th>\n",
       "      <th>Open</th>\n",
       "      <th>Close</th>\n",
       "      <th>Volume</th>\n",
       "      <th>Days</th>\n",
       "    </tr>\n",
       "  </thead>\n",
       "  <tbody>\n",
       "    <tr>\n",
       "      <th>count</th>\n",
       "      <td>2700.000000</td>\n",
       "      <td>2700.000000</td>\n",
       "      <td>2.700000e+03</td>\n",
       "      <td>2700.000000</td>\n",
       "    </tr>\n",
       "    <tr>\n",
       "      <th>mean</th>\n",
       "      <td>11364.825725</td>\n",
       "      <td>11356.717970</td>\n",
       "      <td>2.935654e+05</td>\n",
       "      <td>1349.500000</td>\n",
       "    </tr>\n",
       "    <tr>\n",
       "      <th>std</th>\n",
       "      <td>4159.661856</td>\n",
       "      <td>4158.403861</td>\n",
       "      <td>1.950139e+05</td>\n",
       "      <td>779.567188</td>\n",
       "    </tr>\n",
       "    <tr>\n",
       "      <th>min</th>\n",
       "      <td>5233.450195</td>\n",
       "      <td>5285.000000</td>\n",
       "      <td>0.000000e+00</td>\n",
       "      <td>0.000000</td>\n",
       "    </tr>\n",
       "    <tr>\n",
       "      <th>25%</th>\n",
       "      <td>8172.975098</td>\n",
       "      <td>8170.649902</td>\n",
       "      <td>1.669750e+05</td>\n",
       "      <td>674.750000</td>\n",
       "    </tr>\n",
       "    <tr>\n",
       "      <th>50%</th>\n",
       "      <td>10488.925293</td>\n",
       "      <td>10479.250000</td>\n",
       "      <td>2.316500e+05</td>\n",
       "      <td>1349.500000</td>\n",
       "    </tr>\n",
       "    <tr>\n",
       "      <th>75%</th>\n",
       "      <td>14932.824951</td>\n",
       "      <td>14907.149903</td>\n",
       "      <td>3.460500e+05</td>\n",
       "      <td>2024.250000</td>\n",
       "    </tr>\n",
       "    <tr>\n",
       "      <th>max</th>\n",
       "      <td>21737.650391</td>\n",
       "      <td>21778.699219</td>\n",
       "      <td>1.811000e+06</td>\n",
       "      <td>2699.000000</td>\n",
       "    </tr>\n",
       "  </tbody>\n",
       "</table>\n",
       "</div>"
      ],
      "text/plain": [
       "               Open         Close        Volume         Days\n",
       "count   2700.000000   2700.000000  2.700000e+03  2700.000000\n",
       "mean   11364.825725  11356.717970  2.935654e+05  1349.500000\n",
       "std     4159.661856   4158.403861  1.950139e+05   779.567188\n",
       "min     5233.450195   5285.000000  0.000000e+00     0.000000\n",
       "25%     8172.975098   8170.649902  1.669750e+05   674.750000\n",
       "50%    10488.925293  10479.250000  2.316500e+05  1349.500000\n",
       "75%    14932.824951  14907.149903  3.460500e+05  2024.250000\n",
       "max    21737.650391  21778.699219  1.811000e+06  2699.000000"
      ]
     },
     "execution_count": 2,
     "metadata": {},
     "output_type": "execute_result"
    }
   ],
   "source": [
    "import preprocess_a as pp\n",
    "\n",
    "raw1=pp.remove(raw)\n",
    "raw1.describe()"
   ]
  },
  {
   "cell_type": "code",
   "execution_count": 3,
   "metadata": {},
   "outputs": [
    {
     "name": "stdout",
     "output_type": "stream",
     "text": [
      "[5285.0, 21778.699219]\n"
     ]
    },
    {
     "data": {
      "image/png": "[encoded data removed]",
      "text/plain": [
       "<Figure size 640x480 with 1 Axes>"
      ]
     },
     "metadata": {},
     "output_type": "display_data"
    }
   ],
   "source": [
    "import diagrams as dd\n",
    "dd.dig(raw1)\n",
    "original_range=[min(raw1['Close']),max(raw1['Close'])]\n",
    "print(original_range)"
   ]
  },
  {
   "cell_type": "markdown",
   "metadata": {},
   "source": [
    "Normalise the Data between 0 to 1, using MinMaxScaler "
   ]
  },
  {
   "cell_type": "code",
   "execution_count": 4,
   "metadata": {},
   "outputs": [],
   "source": [
    "# Wont be using this cell as custom defined methods will be used\n",
    "# raw2=pp.normed_data(raw1)\n",
    "# dd.dig(raw2)\n",
    "\n",
    "# # uncomment if running for the first time\n",
    "# # raw2.to_csv('Nifty_preprocessed', index=False)"
   ]
  },
  {
   "cell_type": "markdown",
   "metadata": {},
   "source": [
    "Creating a Linear Regression Model\n",
    "* For benchmarking, on Nifty Preprocessed Data"
   ]
  },
  {
   "cell_type": "code",
   "execution_count": 6,
   "metadata": {},
   "outputs": [
    {
     "ename": "TypeError",
     "evalue": "model() missing 2 required positional arguments: 'X' and 'y'",
     "output_type": "error",
     "traceback": [
      "\u001b[1;31m---------------------------------------------------------------------------\u001b[0m",
      "\u001b[1;31mTypeError\u001b[0m                                 Traceback (most recent call last)",
      "Cell \u001b[1;32mIn[6], line 7\u001b[0m\n\u001b[0;32m      1\u001b[0m \u001b[38;5;66;03m# creating the \u001b[39;00m\n\u001b[0;32m      2\u001b[0m \n\u001b[0;32m      3\u001b[0m \u001b[38;5;66;03m# Linear Regression\u001b[39;00m\n\u001b[0;32m      4\u001b[0m \u001b[38;5;28;01mimport\u001b[39;00m \u001b[38;5;21;01mlin_reg_help\u001b[39;00m \u001b[38;5;28;01mas\u001b[39;00m \u001b[38;5;21;01mlr\u001b[39;00m\n\u001b[1;32m----> 7\u001b[0m \u001b[43mlr\u001b[49m\u001b[38;5;241;43m.\u001b[39;49m\u001b[43mmodel\u001b[49m\u001b[43m(\u001b[49m\u001b[43m)\u001b[49m\n",
      "\u001b[1;31mTypeError\u001b[0m: model() missing 2 required positional arguments: 'X' and 'y'"
     ]
    }
   ],
   "source": [
    "# creating the \n",
    "\n",
    "# Linear Regression\n",
    "import lin_reg_help as lr\n",
    "import helperfunc as hf\n",
    "\n",
    "hf.\n",
    "\n",
    "\n",
    "lr.model()"
   ]
  },
  {
   "cell_type": "markdown",
   "metadata": {},
   "source": [
    "Creating ARIMA model"
   ]
  },
  {
   "cell_type": "code",
   "execution_count": null,
   "metadata": {},
   "outputs": [],
   "source": []
  },
  {
   "cell_type": "markdown",
   "metadata": {},
   "source": [
    "Creating a LSTM model"
   ]
  }
 ],
 "metadata": {
  "kernelspec": {
   "display_name": "tf",
   "language": "python",
   "name": "python3"
  },
  "language_info": {
   "codemirror_mode": {
    "name": "ipython",
    "version": 3
   },
   "file_extension": ".py",
   "mimetype": "text/x-python",
   "name": "python",
   "nbconvert_exporter": "python",
   "pygments_lexer": "ipython3",
   "version": "3.10.13"
  }
 },
 "nbformat": 4,
 "nbformat_minor": 2
}
